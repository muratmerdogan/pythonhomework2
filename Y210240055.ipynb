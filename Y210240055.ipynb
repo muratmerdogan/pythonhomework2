{
 "cells": [
  {
   "attachments": {},
   "cell_type": "markdown",
   "metadata": {},
   "source": [
    "#### Bu proje Murat Merdoğan tarafından İzmir Katip Çelebi Üniversitesi Yazılım Mühendisliği Tezsiz Yüksek Lisans Programı  - Python programlama dersi final sınavı için hazırlanmıştır.\n",
    "\n",
    "#https://github.com/muratmerdogan/pythonhomework2/blob/master/Y210240055.ipynb\n",
    "\n",
    "####  Murat Merdoğan\n",
    "####  Öğrenci Numarası :Y210240055 \n",
    "\n",
    "### Projenin Amacı:  Uygulama dizininde bulunan veriler.xlsx dosyasını okuyarak satış grafigi oluşturmaktadır.  (Grafikte en yüksek ve en düşük satışlar bilgisi de bulunmaktadır.)\n",
    "\n",
    "\n",
    "\n",
    "  NumPy, \n",
    "  pandas, \n",
    "  matplotlib \n",
    "  seaborn \n",
    "  kütüpnaleri kullanılmıştır.\n",
    "\n",
    " aşağıda yüklemek için komutlar vardır\n",
    "\n",
    "pip install numpy\n",
    "pip install pandas\n",
    "pip install matplotlib\n",
    "pip install seaborn\n"
   ]
  },
  {
   "cell_type": "code",
   "execution_count": null,
   "metadata": {},
   "outputs": [],
   "source": [
    "# Kütüphaneleri ekleyelim\n",
    "import pandas as pd\n",
    "import matplotlib.pyplot as plt\n",
    "import seaborn as sns\n",
    "import numpy as np"
   ]
  },
  {
   "cell_type": "code",
   "execution_count": null,
   "metadata": {},
   "outputs": [],
   "source": [
    "\n",
    "# Excel dosyasından verileri okuyalım\n",
    "df = pd.read_excel('veriler.xlsx', header=0, index_col=0)\n",
    "\n",
    "# Grafiği çizmek için seaborn stilini ayarlayalım\n",
    "sns.set(style=\"darkgrid\")\n",
    "\n",
    "# Çizgi grafiği oluşturmak için veri çerçevesini dönüştürelim\n",
    "df = df.T\n",
    "\n",
    "# DataFrame'i NumPy array'ine dönüştürelim\n",
    "array = df.values"
   ]
  },
  {
   "cell_type": "code",
   "execution_count": null,
   "metadata": {},
   "outputs": [],
   "source": [
    "# En yüksek değeri bulma\n",
    "en_yuksek_deger = np.max(array)\n",
    "\n",
    "# En yüksek değerin indeksini bulma\n",
    "indeks = np.unravel_index(np.argmax(array), array.shape)\n",
    "ay , personel = df.index[indeks[0]], df.columns[indeks[1]]\n"
   ]
  },
  {
   "cell_type": "code",
   "execution_count": null,
   "metadata": {},
   "outputs": [],
   "source": [
    "# En düşük değeri ve indeksini bulma\n",
    "en_dusuk_deger = np.min(array)\n",
    "en_dusuk_indeks = np.unravel_index(np.argmin(array), array.shape)\n",
    "dusukay, dusukpersonel = df.index[en_dusuk_indeks[0]], df.columns[en_dusuk_indeks[1]]\n"
   ]
  },
  {
   "cell_type": "code",
   "execution_count": null,
   "metadata": {},
   "outputs": [],
   "source": [
    "\n",
    "\n",
    "\n",
    "# Çizgi grafiğini çizelim\n",
    "plt.figure(figsize=(10, 6))\n",
    "sns.lineplot(data=df, markers=True)\n",
    "\n",
    "# Eksen etiketlerini ve başlığı ekleyelim\n",
    "plt.xlabel('Personel')\n",
    "plt.ylabel('Satışlar')\n",
    "plt.title('Personel Satışları')\n",
    "\n",
    "\n",
    "# En yüksek değeri metin olarak grafiğin altına ekleyelim\n",
    "plt.text(0.5, -0.2, f\"En yüksek Satış: {en_yuksek_deger} Adet (Personel {personel}, Ay: {ay})\",\n",
    "         horizontalalignment='center', verticalalignment='center', fontsize=12, transform=plt.gca().transAxes)\n",
    "\n",
    "# En düşük değeri metin olarak grafiğin altına ekleyelim\n",
    "plt.text(0.5, -0.25, f\"En düşük Satış : {en_dusuk_deger} Adet (Personel {dusukpersonel}, Ay: {dusukay})\",\n",
    "         horizontalalignment='center', verticalalignment='center', fontsize=12, transform=plt.gca().transAxes)\n",
    "\n",
    "\n",
    "\n",
    "# grafiği gösterelim\n",
    "plt.show()\n",
    "\n",
    "\n"
   ]
  },
  {
   "attachments": {},
   "cell_type": "markdown",
   "metadata": {},
   "source": [
    "## Projede faydalandığım kaynaklar\n",
    "https://pythonbasics.org/read-excel/#:~:text=Read%20Excel%20files%20(extensions%3A.,is%20a%20tabular%20like%20structure\n",
    "\n",
    "https://medium.com/codex/create-any-kind-of-beautiful-data-visualizations-with-these-powerful-python-matplotlib-functions-537ad359e9a3"
   ]
  }
 ],
 "metadata": {
  "kernelspec": {
   "display_name": "Python 3",
   "language": "python",
   "name": "python3"
  },
  "language_info": {
   "codemirror_mode": {
    "name": "ipython",
    "version": 3
   },
   "file_extension": ".py",
   "mimetype": "text/x-python",
   "name": "python",
   "nbconvert_exporter": "python",
   "pygments_lexer": "ipython3",
   "version": "3.11.3"
  },
  "orig_nbformat": 4
 },
 "nbformat": 4,
 "nbformat_minor": 2
}
